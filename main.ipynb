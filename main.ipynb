{
 "cells": [
  {
   "cell_type": "code",
   "execution_count": 2,
   "metadata": {},
   "outputs": [],
   "source": [
    "# data processing\n",
    "import pandas as pd\n",
    "import numpy as np\n",
    "\n",
    "# visulization\n",
    "import matplotlib.pyplot as plt\n",
    "import seaborn as sns\n",
    "import plotly.express as px\n",
    "\n",
    "# feature extraction\n",
    "from sklearn.feature_extraction.text import TfidfTransformer, CountVectorizer\n",
    "\n",
    "# test train split\n",
    "from sklearn.model_selection import train_test_split\n",
    "\n",
    "# evaluation metrices\n",
    "from sklearn import metrics\n",
    "from sklearn.metrics import accuracy_score, classification_report\n",
    "\n",
    "# machine learning\n",
    "from sklearn.naive_bayes import MultinomialNB\n",
    "from sklearn.model_selection import train_test_split\n",
    "from sklearn.linear_model import LogisticRegression, Perceptron\n",
    "from sklearn.ensemble import RandomForestClassifier\n",
    "from sklearn.svm import SVC\n",
    "\n",
    "# ignore warnings\n",
    "import warnings\n",
    "warnings.filterwarnings('ignore')"
   ]
  },
  {
   "cell_type": "code",
   "execution_count": 3,
   "metadata": {},
   "outputs": [
    {
     "data": {
      "text/html": [
       "<div>\n",
       "<style scoped>\n",
       "    .dataframe tbody tr th:only-of-type {\n",
       "        vertical-align: middle;\n",
       "    }\n",
       "\n",
       "    .dataframe tbody tr th {\n",
       "        vertical-align: top;\n",
       "    }\n",
       "\n",
       "    .dataframe thead th {\n",
       "        text-align: right;\n",
       "    }\n",
       "</style>\n",
       "<table border=\"1\" class=\"dataframe\">\n",
       "  <thead>\n",
       "    <tr style=\"text-align: right;\">\n",
       "      <th></th>\n",
       "      <th>tweet</th>\n",
       "      <th>sarcastic</th>\n",
       "      <th>sarcasm</th>\n",
       "      <th>irony</th>\n",
       "      <th>satire</th>\n",
       "      <th>understatement</th>\n",
       "      <th>overstatement</th>\n",
       "      <th>rhetorical_question</th>\n",
       "    </tr>\n",
       "  </thead>\n",
       "  <tbody>\n",
       "    <tr>\n",
       "      <th>0</th>\n",
       "      <td>The only thing I got from college is a caffein...</td>\n",
       "      <td>1</td>\n",
       "      <td>0.0</td>\n",
       "      <td>1.0</td>\n",
       "      <td>0.0</td>\n",
       "      <td>0.0</td>\n",
       "      <td>0.0</td>\n",
       "      <td>0.0</td>\n",
       "    </tr>\n",
       "    <tr>\n",
       "      <th>1</th>\n",
       "      <td>I love it when professors draw a big question ...</td>\n",
       "      <td>1</td>\n",
       "      <td>1.0</td>\n",
       "      <td>0.0</td>\n",
       "      <td>0.0</td>\n",
       "      <td>0.0</td>\n",
       "      <td>0.0</td>\n",
       "      <td>0.0</td>\n",
       "    </tr>\n",
       "    <tr>\n",
       "      <th>2</th>\n",
       "      <td>Remember the hundred emails from companies whe...</td>\n",
       "      <td>1</td>\n",
       "      <td>0.0</td>\n",
       "      <td>1.0</td>\n",
       "      <td>0.0</td>\n",
       "      <td>0.0</td>\n",
       "      <td>0.0</td>\n",
       "      <td>0.0</td>\n",
       "    </tr>\n",
       "    <tr>\n",
       "      <th>3</th>\n",
       "      <td>Today my pop-pop told me I was not “forced” to...</td>\n",
       "      <td>1</td>\n",
       "      <td>1.0</td>\n",
       "      <td>0.0</td>\n",
       "      <td>0.0</td>\n",
       "      <td>0.0</td>\n",
       "      <td>0.0</td>\n",
       "      <td>0.0</td>\n",
       "    </tr>\n",
       "    <tr>\n",
       "      <th>4</th>\n",
       "      <td>@VolphanCarol @littlewhitty @mysticalmanatee I...</td>\n",
       "      <td>1</td>\n",
       "      <td>1.0</td>\n",
       "      <td>0.0</td>\n",
       "      <td>0.0</td>\n",
       "      <td>0.0</td>\n",
       "      <td>0.0</td>\n",
       "      <td>0.0</td>\n",
       "    </tr>\n",
       "  </tbody>\n",
       "</table>\n",
       "</div>"
      ],
      "text/plain": [
       "                                               tweet  sarcastic  sarcasm  \\\n",
       "0  The only thing I got from college is a caffein...          1      0.0   \n",
       "1  I love it when professors draw a big question ...          1      1.0   \n",
       "2  Remember the hundred emails from companies whe...          1      0.0   \n",
       "3  Today my pop-pop told me I was not “forced” to...          1      1.0   \n",
       "4  @VolphanCarol @littlewhitty @mysticalmanatee I...          1      1.0   \n",
       "\n",
       "   irony  satire  understatement  overstatement  rhetorical_question  \n",
       "0    1.0     0.0             0.0            0.0                  0.0  \n",
       "1    0.0     0.0             0.0            0.0                  0.0  \n",
       "2    1.0     0.0             0.0            0.0                  0.0  \n",
       "3    0.0     0.0             0.0            0.0                  0.0  \n",
       "4    0.0     0.0             0.0            0.0                  0.0  "
      ]
     },
     "execution_count": 3,
     "metadata": {},
     "output_type": "execute_result"
    }
   ],
   "source": [
    "df = pd.read_csv('../Dataset/Sarcasm Dataset.csv')\n",
    "df.drop('Unnamed: 0', axis=1, inplace=True)\n",
    "df.head()"
   ]
  },
  {
   "cell_type": "code",
   "execution_count": 4,
   "metadata": {},
   "outputs": [
    {
     "data": {
      "text/plain": [
       "sarcastic\n",
       "0    2601\n",
       "1     867\n",
       "Name: count, dtype: int64"
      ]
     },
     "execution_count": 4,
     "metadata": {},
     "output_type": "execute_result"
    }
   ],
   "source": [
    "df['sarcastic'].value_counts()"
   ]
  },
  {
   "cell_type": "code",
   "execution_count": 5,
   "metadata": {},
   "outputs": [
    {
     "data": {
      "image/png": "[encoded data removed]",
      "text/plain": [
       "<Figure size 800x600 with 1 Axes>"
      ]
     },
     "metadata": {},
     "output_type": "display_data"
    }
   ],
   "source": [
    "sarcastic_counts = df['sarcastic'].value_counts().reset_index()\n",
    "sarcastic_counts.columns = ['Sarcastic', 'Count']\n",
    "plt.figure(figsize=(8, 6))\n",
    "ax = sns.barplot(x='Sarcastic', y='Count', data=sarcastic_counts, hue='Sarcastic', palette='viridis')\n",
    "\n",
    "for p in ax.patches:\n",
    "    ax.annotate(f'{p.get_height():.0f}', (p.get_x() + p.get_width() / 2., p.get_height()),\n",
    "                ha='center', va='center', xytext=(0, 10), textcoords='offset points')\n",
    "\n",
    "plt.xlabel('Sarcastic/Not Sarcastic')\n",
    "plt.ylabel('Frequency')\n",
    "\n",
    "plt.show()"
   ]
  },
  {
   "cell_type": "code",
   "execution_count": 6,
   "metadata": {},
   "outputs": [
    {
     "data": {
      "text/plain": [
       "1"
      ]
     },
     "execution_count": 6,
     "metadata": {},
     "output_type": "execute_result"
    }
   ],
   "source": [
    "df['tweet'].isnull().sum()"
   ]
  },
  {
   "cell_type": "code",
   "execution_count": 7,
   "metadata": {},
   "outputs": [],
   "source": [
    "df.dropna(subset=['tweet'], inplace=True)\n",
    "df.dropna(subset=['sarcastic'], inplace=True)"
   ]
  },
  {
   "cell_type": "code",
   "execution_count": 8,
   "metadata": {},
   "outputs": [],
   "source": [
    "def evaluate_classifier(classifier, X_test, y_test):\n",
    "    # Make predictions on the test set\n",
    "    y_pred = classifier.predict(X_test)\n",
    "\n",
    "    # Calculate metrics\n",
    "    accuracy = metrics.accuracy_score(y_test, y_pred)\n",
    "    precision = metrics.precision_score(y_test, y_pred, average='weighted')\n",
    "    recall = metrics.recall_score(y_test, y_pred, average='weighted')\n",
    "    f1_score = metrics.f1_score(y_test, y_pred, average='weighted')\n",
    "\n",
    "    return accuracy, precision, recall, f1_score\n"
   ]
  },
  {
   "cell_type": "markdown",
   "metadata": {},
   "source": [
    "## **Binary Classification**"
   ]
  },
  {
   "cell_type": "markdown",
   "metadata": {},
   "source": [
    "### **Bag of words based on raw counts** "
   ]
  },
  {
   "cell_type": "code",
   "execution_count": 9,
   "metadata": {},
   "outputs": [
    {
     "data": {
      "text/plain": [
       "<3467x10454 sparse matrix of type '<class 'numpy.int64'>'\n",
       "\twith 56597 stored elements in Compressed Sparse Row format>"
      ]
     },
     "execution_count": 9,
     "metadata": {},
     "output_type": "execute_result"
    }
   ],
   "source": [
    "vectorizer = CountVectorizer()\n",
    "X = vectorizer.fit_transform(df['tweet'])\n",
    "X"
   ]
  },
  {
   "cell_type": "code",
   "execution_count": 10,
   "metadata": {},
   "outputs": [],
   "source": [
    "X_train, X_test, y_train, y_test = train_test_split(X, df['sarcastic'], test_size=0.2, random_state=42)"
   ]
  },
  {
   "cell_type": "code",
   "execution_count": 11,
   "metadata": {},
   "outputs": [
    {
     "name": "stdout",
     "output_type": "stream",
     "text": [
      "Naive Bayes Accuracy: 0.7031700288184438\n"
     ]
    },
    {
     "name": "stdout",
     "output_type": "stream",
     "text": [
      "Logistic Regression Accuracy: 0.6988472622478387\n",
      "Random Forest Accuracy: 0.7118155619596542\n",
      "SVM Accuracy: 0.7132564841498559\n",
      "Perceptron Accuracy: 0.6426512968299711\n"
     ]
    }
   ],
   "source": [
    "#### Naive Bayes\n",
    "nb_classifier= MultinomialNB()\n",
    "nb_classifier.fit(X_train, y_train)\n",
    "y_pred = nb_classifier.predict(X_test)\n",
    "accuracy = accuracy_score(y_test, y_pred)\n",
    "print(\"Naive Bayes Accuracy:\", accuracy)\n",
    "\n",
    "#### Logistic Regression\n",
    "lr_classifier = LogisticRegression()\n",
    "lr_classifier.fit(X_train, y_train)\n",
    "y_pred_lr = lr_classifier.predict(X_test)\n",
    "accuracy_lr = accuracy_score(y_test, y_pred_lr)\n",
    "print(\"Logistic Regression Accuracy:\", accuracy_lr)\n",
    "\n",
    "#### Random Forest\n",
    "rf_classifier = RandomForestClassifier()\n",
    "rf_classifier.fit(X_train, y_train)\n",
    "y_pred_rf = rf_classifier.predict(X_test)\n",
    "accuracy_rf = accuracy_score(y_test, y_pred_rf)\n",
    "print(\"Random Forest Accuracy:\", accuracy_rf)\n",
    "\n",
    "#### Support Vector Machine (SVM)\n",
    "svm_classifier = SVC()\n",
    "svm_classifier.fit(X_train, y_train)\n",
    "y_pred_svm = svm_classifier.predict(X_test)\n",
    "accuracy_svm = accuracy_score(y_test, y_pred_svm)\n",
    "print(\"SVM Accuracy:\", accuracy_svm)\n",
    "\n",
    "#### Perceptron\n",
    "perceptron_classifier = Perceptron()\n",
    "perceptron_classifier.fit(X_train, y_train)\n",
    "y_pred_perceptron = perceptron_classifier.predict(X_test)\n",
    "accuracy_perceptron = accuracy_score(y_test, y_pred_perceptron)\n",
    "print(\"Perceptron Accuracy:\", accuracy_perceptron)"
   ]
  },
  {
   "cell_type": "markdown",
   "metadata": {},
   "source": [
    "#### Evaluation"
   ]
  },
  {
   "cell_type": "code",
   "execution_count": 12,
   "metadata": {},
   "outputs": [
    {
     "data": {
      "text/html": [
       "<div>\n",
       "<style scoped>\n",
       "    .dataframe tbody tr th:only-of-type {\n",
       "        vertical-align: middle;\n",
       "    }\n",
       "\n",
       "    .dataframe tbody tr th {\n",
       "        vertical-align: top;\n",
       "    }\n",
       "\n",
       "    .dataframe thead th {\n",
       "        text-align: right;\n",
       "    }\n",
       "</style>\n",
       "<table border=\"1\" class=\"dataframe\">\n",
       "  <thead>\n",
       "    <tr style=\"text-align: right;\">\n",
       "      <th></th>\n",
       "      <th>Classifier</th>\n",
       "      <th>Accuracy</th>\n",
       "      <th>Precision</th>\n",
       "      <th>Recall</th>\n",
       "      <th>F1 Score</th>\n",
       "    </tr>\n",
       "  </thead>\n",
       "  <tbody>\n",
       "    <tr>\n",
       "      <th>0</th>\n",
       "      <td>Naïve Bayes</td>\n",
       "      <td>0.703170</td>\n",
       "      <td>0.652219</td>\n",
       "      <td>0.703170</td>\n",
       "      <td>0.651175</td>\n",
       "    </tr>\n",
       "    <tr>\n",
       "      <th>1</th>\n",
       "      <td>Logistic Regression</td>\n",
       "      <td>0.698847</td>\n",
       "      <td>0.642973</td>\n",
       "      <td>0.698847</td>\n",
       "      <td>0.643996</td>\n",
       "    </tr>\n",
       "    <tr>\n",
       "      <th>2</th>\n",
       "      <td>Random Forest</td>\n",
       "      <td>0.711816</td>\n",
       "      <td>0.624018</td>\n",
       "      <td>0.711816</td>\n",
       "      <td>0.598396</td>\n",
       "    </tr>\n",
       "    <tr>\n",
       "      <th>3</th>\n",
       "      <td>SVM</td>\n",
       "      <td>0.713256</td>\n",
       "      <td>0.508735</td>\n",
       "      <td>0.713256</td>\n",
       "      <td>0.593881</td>\n",
       "    </tr>\n",
       "    <tr>\n",
       "      <th>4</th>\n",
       "      <td>Perceptron</td>\n",
       "      <td>0.642651</td>\n",
       "      <td>0.604197</td>\n",
       "      <td>0.642651</td>\n",
       "      <td>0.618299</td>\n",
       "    </tr>\n",
       "  </tbody>\n",
       "</table>\n",
       "</div>"
      ],
      "text/plain": [
       "            Classifier  Accuracy  Precision    Recall  F1 Score\n",
       "0          Naïve Bayes  0.703170   0.652219  0.703170  0.651175\n",
       "1  Logistic Regression  0.698847   0.642973  0.698847  0.643996\n",
       "2        Random Forest  0.711816   0.624018  0.711816  0.598396\n",
       "3                  SVM  0.713256   0.508735  0.713256  0.593881\n",
       "4           Perceptron  0.642651   0.604197  0.642651  0.618299"
      ]
     },
     "execution_count": 12,
     "metadata": {},
     "output_type": "execute_result"
    }
   ],
   "source": [
    "# Evaluate classifiers\n",
    "nb_results = evaluate_classifier(nb_classifier, X_test, y_test)\n",
    "lr_results = evaluate_classifier(lr_classifier, X_test, y_test)\n",
    "rf_results = evaluate_classifier(rf_classifier, X_test, y_test)\n",
    "svm_results = evaluate_classifier(svm_classifier, X_test, y_test)\n",
    "perceptron_results = evaluate_classifier(perceptron_classifier, X_test, y_test)\n",
    "\n",
    "results_df = pd.DataFrame({\n",
    "    'Classifier': ['Naïve Bayes', 'Logistic Regression', 'Random Forest', 'SVM', 'Perceptron'],\n",
    "    'Accuracy': [nb_results[0], lr_results[0], rf_results[0], svm_results[0], perceptron_results[0]],\n",
    "    'Precision': [nb_results[1], lr_results[1], rf_results[1], svm_results[1], perceptron_results[1]],\n",
    "    'Recall': [nb_results[2], lr_results[2], rf_results[2], svm_results[2], perceptron_results[2]],\n",
    "    'F1 Score': [nb_results[3], lr_results[3], rf_results[3], svm_results[3], perceptron_results[3]]\n",
    "})\n",
    "\n",
    "results_df"
   ]
  },
  {
   "cell_type": "markdown",
   "metadata": {},
   "source": [
    "### **Bag of words based on TfIDF**"
   ]
  },
  {
   "cell_type": "code",
   "execution_count": 13,
   "metadata": {},
   "outputs": [
    {
     "data": {
      "text/plain": [
       "<3467x10454 sparse matrix of type '<class 'numpy.float64'>'\n",
       "\twith 56597 stored elements in Compressed Sparse Row format>"
      ]
     },
     "execution_count": 13,
     "metadata": {},
     "output_type": "execute_result"
    }
   ],
   "source": [
    "# convert to array\n",
    "vectorizer = CountVectorizer()\n",
    "X = vectorizer.fit_transform(df['tweet'])\n",
    "\n",
    "# convert to tf-idf\n",
    "transformer = TfidfTransformer(smooth_idf=False)\n",
    "tfidf_matrix = transformer.fit_transform(X)\n",
    "tfidf_matrix"
   ]
  },
  {
   "cell_type": "code",
   "execution_count": 14,
   "metadata": {},
   "outputs": [],
   "source": [
    "X_train, X_test, y_train, y_test = train_test_split(tfidf_matrix, df['sarcastic'], test_size=0.2, random_state=42)"
   ]
  },
  {
   "cell_type": "code",
   "execution_count": 15,
   "metadata": {},
   "outputs": [
    {
     "name": "stdout",
     "output_type": "stream",
     "text": [
      "Naive Bayes Accuracy: 0.7132564841498559\n",
      "Logistic Regression Accuracy: 0.7161383285302594\n",
      "Random Forest Accuracy: 0.7146974063400576\n",
      "SVM Accuracy: 0.7132564841498559\n",
      "Perceptron Accuracy: 0.6585014409221902\n"
     ]
    }
   ],
   "source": [
    "#### Naive Bayes\n",
    "nb_classifier= MultinomialNB()\n",
    "nb_classifier.fit(X_train, y_train)\n",
    "y_pred = nb_classifier.predict(X_test)\n",
    "accuracy = accuracy_score(y_test, y_pred)\n",
    "print(\"Naive Bayes Accuracy:\", accuracy)\n",
    "\n",
    "#### Logistic Regression\n",
    "lr_classifier = LogisticRegression()\n",
    "lr_classifier.fit(X_train, y_train)\n",
    "y_pred_lr = lr_classifier.predict(X_test)\n",
    "accuracy_lr = accuracy_score(y_test, y_pred_lr)\n",
    "print(\"Logistic Regression Accuracy:\", accuracy_lr)\n",
    "\n",
    "#### Random Forest\n",
    "rf_classifier = RandomForestClassifier()\n",
    "rf_classifier.fit(X_train, y_train)\n",
    "y_pred_rf = rf_classifier.predict(X_test)\n",
    "accuracy_rf = accuracy_score(y_test, y_pred_rf)\n",
    "print(\"Random Forest Accuracy:\", accuracy_rf)\n",
    "\n",
    "#### Support Vector Machine (SVM)\n",
    "svm_classifier = SVC()\n",
    "svm_classifier.fit(X_train, y_train)\n",
    "y_pred_svm = svm_classifier.predict(X_test)\n",
    "accuracy_svm = accuracy_score(y_test, y_pred_svm)\n",
    "print(\"SVM Accuracy:\", accuracy_svm)\n",
    "\n",
    "#### Perceptron\n",
    "perceptron_classifier = Perceptron()\n",
    "perceptron_classifier.fit(X_train, y_train)\n",
    "y_pred_perceptron = perceptron_classifier.predict(X_test)\n",
    "accuracy_perceptron = accuracy_score(y_test, y_pred_perceptron)\n",
    "print(\"Perceptron Accuracy:\", accuracy_perceptron)\n"
   ]
  },
  {
   "cell_type": "markdown",
   "metadata": {},
   "source": [
    "#### Evaluation"
   ]
  },
  {
   "cell_type": "code",
   "execution_count": 16,
   "metadata": {},
   "outputs": [
    {
     "data": {
      "text/html": [
       "<div>\n",
       "<style scoped>\n",
       "    .dataframe tbody tr th:only-of-type {\n",
       "        vertical-align: middle;\n",
       "    }\n",
       "\n",
       "    .dataframe tbody tr th {\n",
       "        vertical-align: top;\n",
       "    }\n",
       "\n",
       "    .dataframe thead th {\n",
       "        text-align: right;\n",
       "    }\n",
       "</style>\n",
       "<table border=\"1\" class=\"dataframe\">\n",
       "  <thead>\n",
       "    <tr style=\"text-align: right;\">\n",
       "      <th></th>\n",
       "      <th>Classifier</th>\n",
       "      <th>Accuracy</th>\n",
       "      <th>Precision</th>\n",
       "      <th>Recall</th>\n",
       "      <th>F1 Score</th>\n",
       "    </tr>\n",
       "  </thead>\n",
       "  <tbody>\n",
       "    <tr>\n",
       "      <th>0</th>\n",
       "      <td>Naïve Bayes</td>\n",
       "      <td>0.713256</td>\n",
       "      <td>0.508735</td>\n",
       "      <td>0.713256</td>\n",
       "      <td>0.593881</td>\n",
       "    </tr>\n",
       "    <tr>\n",
       "      <th>1</th>\n",
       "      <td>Logistic Regression</td>\n",
       "      <td>0.716138</td>\n",
       "      <td>0.796949</td>\n",
       "      <td>0.716138</td>\n",
       "      <td>0.600587</td>\n",
       "    </tr>\n",
       "    <tr>\n",
       "      <th>2</th>\n",
       "      <td>Random Forest</td>\n",
       "      <td>0.714697</td>\n",
       "      <td>0.701074</td>\n",
       "      <td>0.714697</td>\n",
       "      <td>0.599858</td>\n",
       "    </tr>\n",
       "    <tr>\n",
       "      <th>3</th>\n",
       "      <td>SVM</td>\n",
       "      <td>0.713256</td>\n",
       "      <td>0.508735</td>\n",
       "      <td>0.713256</td>\n",
       "      <td>0.593881</td>\n",
       "    </tr>\n",
       "    <tr>\n",
       "      <th>4</th>\n",
       "      <td>Perceptron</td>\n",
       "      <td>0.658501</td>\n",
       "      <td>0.614895</td>\n",
       "      <td>0.658501</td>\n",
       "      <td>0.628834</td>\n",
       "    </tr>\n",
       "  </tbody>\n",
       "</table>\n",
       "</div>"
      ],
      "text/plain": [
       "            Classifier  Accuracy  Precision    Recall  F1 Score\n",
       "0          Naïve Bayes  0.713256   0.508735  0.713256  0.593881\n",
       "1  Logistic Regression  0.716138   0.796949  0.716138  0.600587\n",
       "2        Random Forest  0.714697   0.701074  0.714697  0.599858\n",
       "3                  SVM  0.713256   0.508735  0.713256  0.593881\n",
       "4           Perceptron  0.658501   0.614895  0.658501  0.628834"
      ]
     },
     "execution_count": 16,
     "metadata": {},
     "output_type": "execute_result"
    }
   ],
   "source": [
    "# Evaluate classifiers\n",
    "nb_results = evaluate_classifier(nb_classifier, X_test, y_test)\n",
    "lr_results = evaluate_classifier(lr_classifier, X_test, y_test)\n",
    "rf_results = evaluate_classifier(rf_classifier, X_test, y_test)\n",
    "svm_results = evaluate_classifier(svm_classifier, X_test, y_test)\n",
    "perceptron_results = evaluate_classifier(perceptron_classifier, X_test, y_test)\n",
    "\n",
    "results_df = pd.DataFrame({\n",
    "    'Classifier': ['Naïve Bayes', 'Logistic Regression', 'Random Forest', 'SVM', 'Perceptron'],\n",
    "    'Accuracy': [nb_results[0], lr_results[0], rf_results[0], svm_results[0], perceptron_results[0]],\n",
    "    'Precision': [nb_results[1], lr_results[1], rf_results[1], svm_results[1], perceptron_results[1]],\n",
    "    'Recall': [nb_results[2], lr_results[2], rf_results[2], svm_results[2], perceptron_results[2]],\n",
    "    'F1 Score': [nb_results[3], lr_results[3], rf_results[3], svm_results[3], perceptron_results[3]]\n",
    "})\n",
    "\n",
    "results_df"
   ]
  },
  {
   "cell_type": "markdown",
   "metadata": {},
   "source": [
    "### **N-grams (bigrams, trigrams)**"
   ]
  },
  {
   "cell_type": "code",
   "execution_count": 17,
   "metadata": {},
   "outputs": [],
   "source": [
    "X_train, X_test, y_train, y_test = train_test_split(df['tweet'], df['sarcastic'], test_size=0.2, random_state=42)"
   ]
  },
  {
   "cell_type": "code",
   "execution_count": 18,
   "metadata": {},
   "outputs": [],
   "source": [
    "# Use CountVectorizer to convert text data into n-grams\n",
    "vectorizer = CountVectorizer(ngram_range=(2, 3))\n",
    "X_train = vectorizer.fit_transform(X_train)\n",
    "X_test= vectorizer.transform(X_test)"
   ]
  },
  {
   "cell_type": "code",
   "execution_count": 19,
   "metadata": {},
   "outputs": [
    {
     "name": "stdout",
     "output_type": "stream",
     "text": [
      "Naive Bayes Accuracy: 0.7089337175792507\n",
      "Logistic Regression Accuracy: 0.7132564841498559\n",
      "Random Forest Accuracy: 0.7190201729106628\n",
      "SVM Accuracy: 0.7132564841498559\n",
      "Perceptron Accuracy: 0.6642651296829971\n"
     ]
    }
   ],
   "source": [
    "#### Naive Bayes\n",
    "nb_classifier= MultinomialNB()\n",
    "nb_classifier.fit(X_train, y_train)\n",
    "y_pred = nb_classifier.predict(X_test)\n",
    "accuracy = accuracy_score(y_test, y_pred)\n",
    "print(\"Naive Bayes Accuracy:\", accuracy)\n",
    "\n",
    "#### Logistic Regression\n",
    "lr_classifier = LogisticRegression()\n",
    "lr_classifier.fit(X_train, y_train)\n",
    "y_pred_lr = lr_classifier.predict(X_test)\n",
    "accuracy_lr = accuracy_score(y_test, y_pred_lr)\n",
    "print(\"Logistic Regression Accuracy:\", accuracy_lr)\n",
    "\n",
    "#### Random Forest\n",
    "rf_classifier = RandomForestClassifier()\n",
    "rf_classifier.fit(X_train, y_train)\n",
    "y_pred_rf = rf_classifier.predict(X_test)\n",
    "accuracy_rf = accuracy_score(y_test, y_pred_rf)\n",
    "print(\"Random Forest Accuracy:\", accuracy_rf)\n",
    "\n",
    "#### Support Vector Machine (SVM)\n",
    "svm_classifier = SVC()\n",
    "svm_classifier.fit(X_train, y_train)\n",
    "y_pred_svm = svm_classifier.predict(X_test)\n",
    "accuracy_svm = accuracy_score(y_test, y_pred_svm)\n",
    "print(\"SVM Accuracy:\", accuracy_svm)\n",
    "\n",
    "#### Perceptron\n",
    "perceptron_classifier = Perceptron()\n",
    "perceptron_classifier.fit(X_train, y_train)\n",
    "y_pred_perceptron = perceptron_classifier.predict(X_test)\n",
    "accuracy_perceptron = accuracy_score(y_test, y_pred_perceptron)\n",
    "print(\"Perceptron Accuracy:\", accuracy_perceptron)\n"
   ]
  },
  {
   "cell_type": "markdown",
   "metadata": {},
   "source": [
    "#### Evaluation"
   ]
  },
  {
   "cell_type": "code",
   "execution_count": 20,
   "metadata": {},
   "outputs": [
    {
     "data": {
      "text/html": [
       "<div>\n",
       "<style scoped>\n",
       "    .dataframe tbody tr th:only-of-type {\n",
       "        vertical-align: middle;\n",
       "    }\n",
       "\n",
       "    .dataframe tbody tr th {\n",
       "        vertical-align: top;\n",
       "    }\n",
       "\n",
       "    .dataframe thead th {\n",
       "        text-align: right;\n",
       "    }\n",
       "</style>\n",
       "<table border=\"1\" class=\"dataframe\">\n",
       "  <thead>\n",
       "    <tr style=\"text-align: right;\">\n",
       "      <th></th>\n",
       "      <th>Classifier</th>\n",
       "      <th>Accuracy</th>\n",
       "      <th>Precision</th>\n",
       "      <th>Recall</th>\n",
       "      <th>F1 Score</th>\n",
       "    </tr>\n",
       "  </thead>\n",
       "  <tbody>\n",
       "    <tr>\n",
       "      <th>0</th>\n",
       "      <td>Naïve Bayes</td>\n",
       "      <td>0.708934</td>\n",
       "      <td>0.649528</td>\n",
       "      <td>0.708934</td>\n",
       "      <td>0.633154</td>\n",
       "    </tr>\n",
       "    <tr>\n",
       "      <th>1</th>\n",
       "      <td>Logistic Regression</td>\n",
       "      <td>0.713256</td>\n",
       "      <td>0.508735</td>\n",
       "      <td>0.713256</td>\n",
       "      <td>0.593881</td>\n",
       "    </tr>\n",
       "    <tr>\n",
       "      <th>2</th>\n",
       "      <td>Random Forest</td>\n",
       "      <td>0.719020</td>\n",
       "      <td>0.798428</td>\n",
       "      <td>0.719020</td>\n",
       "      <td>0.607185</td>\n",
       "    </tr>\n",
       "    <tr>\n",
       "      <th>3</th>\n",
       "      <td>SVM</td>\n",
       "      <td>0.713256</td>\n",
       "      <td>0.508735</td>\n",
       "      <td>0.713256</td>\n",
       "      <td>0.593881</td>\n",
       "    </tr>\n",
       "    <tr>\n",
       "      <th>4</th>\n",
       "      <td>Perceptron</td>\n",
       "      <td>0.664265</td>\n",
       "      <td>0.603870</td>\n",
       "      <td>0.664265</td>\n",
       "      <td>0.620205</td>\n",
       "    </tr>\n",
       "  </tbody>\n",
       "</table>\n",
       "</div>"
      ],
      "text/plain": [
       "            Classifier  Accuracy  Precision    Recall  F1 Score\n",
       "0          Naïve Bayes  0.708934   0.649528  0.708934  0.633154\n",
       "1  Logistic Regression  0.713256   0.508735  0.713256  0.593881\n",
       "2        Random Forest  0.719020   0.798428  0.719020  0.607185\n",
       "3                  SVM  0.713256   0.508735  0.713256  0.593881\n",
       "4           Perceptron  0.664265   0.603870  0.664265  0.620205"
      ]
     },
     "execution_count": 20,
     "metadata": {},
     "output_type": "execute_result"
    }
   ],
   "source": [
    "# Evaluate classifiers\n",
    "nb_results = evaluate_classifier(nb_classifier, X_test, y_test)\n",
    "lr_results = evaluate_classifier(lr_classifier, X_test, y_test)\n",
    "rf_results = evaluate_classifier(rf_classifier, X_test, y_test)\n",
    "svm_results = evaluate_classifier(svm_classifier, X_test, y_test)\n",
    "perceptron_results = evaluate_classifier(perceptron_classifier, X_test, y_test)\n",
    "\n",
    "results_df = pd.DataFrame({\n",
    "    'Classifier': ['Naïve Bayes', 'Logistic Regression', 'Random Forest', 'SVM', 'Perceptron'],\n",
    "    'Accuracy': [nb_results[0], lr_results[0], rf_results[0], svm_results[0], perceptron_results[0]],\n",
    "    'Precision': [nb_results[1], lr_results[1], rf_results[1], svm_results[1], perceptron_results[1]],\n",
    "    'Recall': [nb_results[2], lr_results[2], rf_results[2], svm_results[2], perceptron_results[2]],\n",
    "    'F1 Score': [nb_results[3], lr_results[3], rf_results[3], svm_results[3], perceptron_results[3]]\n",
    "})\n",
    "\n",
    "results_df"
   ]
  },
  {
   "cell_type": "markdown",
   "metadata": {},
   "source": [
    "## **Multi Class Classification**"
   ]
  },
  {
   "cell_type": "code",
   "execution_count": 36,
   "metadata": {},
   "outputs": [],
   "source": [
    "import pandas as pd\n",
    "from sklearn.model_selection import train_test_split\n",
    "from sklearn.preprocessing import LabelEncoder\n",
    "from tensorflow.keras.preprocessing.text import Tokenizer\n",
    "from tensorflow.keras.preprocessing.sequence import pad_sequences\n",
    "from keras.models import Sequential\n",
    "from keras.layers import Embedding, LSTM, Dropout, Dense\n",
    "import pandas as pd\n",
    "\n",
    "class SarcasmDataset:\n",
    "    def __init__(self, data_path):\n",
    "        self.data_path = data_path\n",
    "        self.df = None\n",
    "        self.X_train = None\n",
    "        self.X_test = None\n",
    "        self.y_train_binary = None\n",
    "        self.y_test_binary = None\n",
    "        self.y_train_multiclass = None\n",
    "        self.y_test_multiclass = None\n",
    "        self.tokenizer = None\n",
    "        self.max_len = None\n",
    "        self.vocab_size = None\n",
    "        self.le_binary = None\n",
    "        self.le_multiclass = None\n",
    "\n",
    "    def load_data(self):\n",
    "        self.df = pd.read_csv(self.data_path)\n",
    "        self.df.drop('Unnamed: 0', axis=1, inplace=True)\n",
    "        self.df.dropna(subset=['tweet', 'sarcastic'], inplace=True)\n",
    "\n",
    "    def preprocess_data(self):\n",
    "        X = self.df['tweet']\n",
    "        y_binary = self.df['sarcastic']\n",
    "        y_multiclass = self.df[['sarcasm', 'irony', 'satire', 'understatement', 'overstatement', 'rhetorical_question']].idxmax(axis=1)\n",
    "\n",
    "        self.le_binary = LabelEncoder()\n",
    "        y_binary = self.le_binary.fit_transform(y_binary)\n",
    "\n",
    "        self.le_multiclass = LabelEncoder()\n",
    "        y_multiclass = self.le_multiclass.fit_transform(y_multiclass)\n",
    "\n",
    "        self.X_train, self.X_test, self.y_train_binary, self.y_test_binary = train_test_split(X, y_binary, test_size=0.25, random_state=42)\n",
    "        self.X_train, self.X_test, self.y_train_multiclass, self.y_test_multiclass = train_test_split(X, y_multiclass, test_size=0.25, random_state=42)\n",
    "\n",
    "    def tokenize_data(self):\n",
    "        self.tokenizer = Tokenizer()\n",
    "        self.tokenizer.fit_on_texts(self.X_train)\n",
    "        X_train_seq = self.tokenizer.texts_to_sequences(self.X_train)\n",
    "        X_test_seq = self.tokenizer.texts_to_sequences(self.X_test)\n",
    "\n",
    "        self.max_len = max(len(seq) for seq in X_train_seq)\n",
    "        self.X_train = pad_sequences(X_train_seq, maxlen=self.max_len)\n",
    "        self.X_test = pad_sequences(X_test_seq, maxlen=self.max_len)\n",
    "        self.vocab_size = len(self.tokenizer.word_index) + 1\n",
    "\n",
    "    def get_data(self):\n",
    "        return (self.X_train, self.X_test, self.y_train_binary, self.y_test_binary,\n",
    "                self.y_train_multiclass, self.y_test_multiclass, self.max_len, self.vocab_size,\n",
    "                self.le_binary.classes_, self.le_multiclass.classes_)"
   ]
  },
  {
   "cell_type": "code",
   "execution_count": 37,
   "metadata": {},
   "outputs": [],
   "source": [
    "# Load the dataset\n",
    "dataset = SarcasmDataset('../Dataset/Sarcasm Dataset.csv')\n",
    "dataset.load_data()\n",
    "dataset.preprocess_data()\n",
    "dataset.tokenize_data()\n",
    "\n",
    "# Get the preprocessed data\n",
    "X_train, X_test, y_train_binary, y_test_binary, y_train_multiclass, y_test_multiclass, max_len, vocab_size, binary_classes, multiclass_classes = dataset.get_data()"
   ]
  },
  {
   "cell_type": "markdown",
   "metadata": {},
   "source": [
    "### **LSTM**"
   ]
  },
  {
   "cell_type": "code",
   "execution_count": 44,
   "metadata": {},
   "outputs": [
    {
     "name": "stdout",
     "output_type": "stream",
     "text": [
      "Training with 2 layers and dropout rate 0.3\n",
      "\u001b[1m28/28\u001b[0m \u001b[32m━━━━━━━━━━━━━━━━━━━━\u001b[0m\u001b[37m\u001b[0m \u001b[1m2s\u001b[0m 58ms/step\n",
      "Training with 2 layers and dropout rate 0.7\n",
      "\u001b[1m28/28\u001b[0m \u001b[32m━━━━━━━━━━━━━━━━━━━━\u001b[0m\u001b[37m\u001b[0m \u001b[1m2s\u001b[0m 51ms/step\n",
      "Training with 3 layers and dropout rate 0.3\n",
      "\u001b[1m28/28\u001b[0m \u001b[32m━━━━━━━━━━━━━━━━━━━━\u001b[0m\u001b[37m\u001b[0m \u001b[1m2s\u001b[0m 65ms/step\n",
      "Training with 3 layers and dropout rate 0.7\n",
      "\u001b[1m28/28\u001b[0m \u001b[32m━━━━━━━━━━━━━━━━━━━━\u001b[0m\u001b[37m\u001b[0m \u001b[1m2s\u001b[0m 66ms/step\n"
     ]
    },
    {
     "data": {
      "text/html": [
       "<div>\n",
       "<style scoped>\n",
       "    .dataframe tbody tr th:only-of-type {\n",
       "        vertical-align: middle;\n",
       "    }\n",
       "\n",
       "    .dataframe tbody tr th {\n",
       "        vertical-align: top;\n",
       "    }\n",
       "\n",
       "    .dataframe thead th {\n",
       "        text-align: right;\n",
       "    }\n",
       "</style>\n",
       "<table border=\"1\" class=\"dataframe\">\n",
       "  <thead>\n",
       "    <tr style=\"text-align: right;\">\n",
       "      <th></th>\n",
       "      <th>num_layers</th>\n",
       "      <th>dropout_rate</th>\n",
       "      <th>accuracy</th>\n",
       "      <th>precision</th>\n",
       "      <th>recall</th>\n",
       "      <th>f1_score</th>\n",
       "    </tr>\n",
       "  </thead>\n",
       "  <tbody>\n",
       "    <tr>\n",
       "      <th>0</th>\n",
       "      <td>2</td>\n",
       "      <td>0.3</td>\n",
       "      <td>0.72</td>\n",
       "      <td>0.51</td>\n",
       "      <td>0.72</td>\n",
       "      <td>0.6</td>\n",
       "    </tr>\n",
       "    <tr>\n",
       "      <th>1</th>\n",
       "      <td>2</td>\n",
       "      <td>0.7</td>\n",
       "      <td>0.72</td>\n",
       "      <td>0.51</td>\n",
       "      <td>0.72</td>\n",
       "      <td>0.6</td>\n",
       "    </tr>\n",
       "    <tr>\n",
       "      <th>2</th>\n",
       "      <td>3</td>\n",
       "      <td>0.3</td>\n",
       "      <td>0.72</td>\n",
       "      <td>0.51</td>\n",
       "      <td>0.72</td>\n",
       "      <td>0.6</td>\n",
       "    </tr>\n",
       "    <tr>\n",
       "      <th>3</th>\n",
       "      <td>3</td>\n",
       "      <td>0.7</td>\n",
       "      <td>0.72</td>\n",
       "      <td>0.51</td>\n",
       "      <td>0.72</td>\n",
       "      <td>0.6</td>\n",
       "    </tr>\n",
       "  </tbody>\n",
       "</table>\n",
       "</div>"
      ],
      "text/plain": [
       "   num_layers  dropout_rate  accuracy  precision  recall  f1_score\n",
       "0           2           0.3      0.72       0.51    0.72       0.6\n",
       "1           2           0.7      0.72       0.51    0.72       0.6\n",
       "2           3           0.3      0.72       0.51    0.72       0.6\n",
       "3           3           0.7      0.72       0.51    0.72       0.6"
      ]
     },
     "execution_count": 44,
     "metadata": {},
     "output_type": "execute_result"
    }
   ],
   "source": [
    "import numpy as np\n",
    "import tensorflow as tf\n",
    "from sklearn.metrics import accuracy_score, precision_score, recall_score, f1_score\n",
    "import pandas as pd\n",
    "\n",
    "hyperparameters = [\n",
    "    {'num_layers': 2, 'dropout_rate': 0.3},\n",
    "    {'num_layers': 2, 'dropout_rate': 0.7},\n",
    "    {'num_layers': 3, 'dropout_rate': 0.3},\n",
    "    {'num_layers': 3, 'dropout_rate': 0.7}\n",
    "]\n",
    "\n",
    "results = []\n",
    "\n",
    "for params in hyperparameters:\n",
    "    num_layers = params['num_layers']\n",
    "    dropout_rate = params['dropout_rate']\n",
    "\n",
    "    # Using preprocessed data from the get_data() method\n",
    "    X_train, X_test, _, _, y_train, y_test, _, _, _, _ = dataset.get_data()\n",
    "\n",
    "    model = tf.keras.models.Sequential()\n",
    "    \n",
    "    model.add(tf.keras.layers.Embedding(input_dim=vocab_size, output_dim=100))\n",
    "    \n",
    "    for _ in range(num_layers):\n",
    "        model.add(tf.keras.layers.LSTM(128, return_sequences=True))\n",
    "        model.add(tf.keras.layers.Dropout(dropout_rate))\n",
    "    \n",
    "    model.add(tf.keras.layers.LSTM(128))\n",
    "    model.add(tf.keras.layers.Dense(6, activation='softmax'))  # softmax for multiclass\n",
    "\n",
    "    optimizer = tf.keras.optimizers.Adam()\n",
    "    model.compile(optimizer=optimizer, loss='sparse_categorical_crossentropy', metrics=['accuracy'])\n",
    "\n",
    "    print(f\"Training with {num_layers} layers and dropout rate {dropout_rate}\")\n",
    "    model.fit(X_train, y_train, epochs=5, batch_size=64, validation_data=(X_test, y_test), verbose=0)\n",
    "\n",
    "    y_pred = model.predict(X_test)\n",
    "    y_pred_classes = np.argmax(y_pred, axis=1)\n",
    "\n",
    "    accuracy = accuracy_score(y_test, y_pred_classes)\n",
    "    precision = precision_score(y_test, y_pred_classes, average='weighted')\n",
    "    recall = recall_score(y_test, y_pred_classes, average='weighted')\n",
    "    f1 = f1_score(y_test, y_pred_classes, average='weighted')\n",
    "\n",
    "    results.append({\n",
    "        'num_layers': num_layers,\n",
    "        'dropout_rate': dropout_rate,\n",
    "        'accuracy': round(accuracy, 2),\n",
    "        'precision': round(precision, 2),\n",
    "        'recall': round(recall, 2),\n",
    "        'f1_score': round(f1, 2)\n",
    "    })\n",
    "\n",
    "results_df = pd.DataFrame(results)\n",
    "results_df"
   ]
  },
  {
   "cell_type": "markdown",
   "metadata": {},
   "source": [
    "### **RNN**"
   ]
  },
  {
   "cell_type": "code",
   "execution_count": 46,
   "metadata": {},
   "outputs": [
    {
     "name": "stdout",
     "output_type": "stream",
     "text": [
      "Training RNN with 2 layers and dropout rate 0.3\n",
      "\u001b[1m28/28\u001b[0m \u001b[32m━━━━━━━━━━━━━━━━━━━━\u001b[0m\u001b[37m\u001b[0m \u001b[1m1s\u001b[0m 23ms/step\n",
      "Training RNN with 2 layers and dropout rate 0.7\n",
      "\u001b[1m28/28\u001b[0m \u001b[32m━━━━━━━━━━━━━━━━━━━━\u001b[0m\u001b[37m\u001b[0m \u001b[1m1s\u001b[0m 28ms/step\n",
      "Training RNN with 3 layers and dropout rate 0.3\n",
      "\u001b[1m28/28\u001b[0m \u001b[32m━━━━━━━━━━━━━━━━━━━━\u001b[0m\u001b[37m\u001b[0m \u001b[1m1s\u001b[0m 28ms/step\n",
      "Training RNN with 3 layers and dropout rate 0.7\n",
      "\u001b[1m28/28\u001b[0m \u001b[32m━━━━━━━━━━━━━━━━━━━━\u001b[0m\u001b[37m\u001b[0m \u001b[1m1s\u001b[0m 29ms/step\n"
     ]
    },
    {
     "data": {
      "text/html": [
       "<div>\n",
       "<style scoped>\n",
       "    .dataframe tbody tr th:only-of-type {\n",
       "        vertical-align: middle;\n",
       "    }\n",
       "\n",
       "    .dataframe tbody tr th {\n",
       "        vertical-align: top;\n",
       "    }\n",
       "\n",
       "    .dataframe thead th {\n",
       "        text-align: right;\n",
       "    }\n",
       "</style>\n",
       "<table border=\"1\" class=\"dataframe\">\n",
       "  <thead>\n",
       "    <tr style=\"text-align: right;\">\n",
       "      <th></th>\n",
       "      <th>num_layers</th>\n",
       "      <th>dropout_rate</th>\n",
       "      <th>accuracy</th>\n",
       "      <th>precision</th>\n",
       "      <th>recall</th>\n",
       "      <th>f1_score</th>\n",
       "    </tr>\n",
       "  </thead>\n",
       "  <tbody>\n",
       "    <tr>\n",
       "      <th>0</th>\n",
       "      <td>2</td>\n",
       "      <td>0.3</td>\n",
       "      <td>0.63</td>\n",
       "      <td>0.56</td>\n",
       "      <td>0.63</td>\n",
       "      <td>0.59</td>\n",
       "    </tr>\n",
       "    <tr>\n",
       "      <th>1</th>\n",
       "      <td>2</td>\n",
       "      <td>0.7</td>\n",
       "      <td>0.72</td>\n",
       "      <td>0.51</td>\n",
       "      <td>0.72</td>\n",
       "      <td>0.60</td>\n",
       "    </tr>\n",
       "    <tr>\n",
       "      <th>2</th>\n",
       "      <td>3</td>\n",
       "      <td>0.3</td>\n",
       "      <td>0.72</td>\n",
       "      <td>0.51</td>\n",
       "      <td>0.72</td>\n",
       "      <td>0.60</td>\n",
       "    </tr>\n",
       "    <tr>\n",
       "      <th>3</th>\n",
       "      <td>3</td>\n",
       "      <td>0.7</td>\n",
       "      <td>0.72</td>\n",
       "      <td>0.51</td>\n",
       "      <td>0.72</td>\n",
       "      <td>0.60</td>\n",
       "    </tr>\n",
       "  </tbody>\n",
       "</table>\n",
       "</div>"
      ],
      "text/plain": [
       "   num_layers  dropout_rate  accuracy  precision  recall  f1_score\n",
       "0           2           0.3      0.63       0.56    0.63      0.59\n",
       "1           2           0.7      0.72       0.51    0.72      0.60\n",
       "2           3           0.3      0.72       0.51    0.72      0.60\n",
       "3           3           0.7      0.72       0.51    0.72      0.60"
      ]
     },
     "execution_count": 46,
     "metadata": {},
     "output_type": "execute_result"
    }
   ],
   "source": [
    "hyperparameters = [\n",
    "    {'num_layers': 2, 'dropout_rate': 0.3},\n",
    "    {'num_layers': 2, 'dropout_rate': 0.7},\n",
    "    {'num_layers': 3, 'dropout_rate': 0.3},\n",
    "    {'num_layers': 3, 'dropout_rate': 0.7}\n",
    "]\n",
    "\n",
    "results_rnn = []\n",
    "\n",
    "for params in hyperparameters:\n",
    "    num_layers = params['num_layers']\n",
    "    dropout_rate = params['dropout_rate']\n",
    "\n",
    "    model = tf.keras.models.Sequential()\n",
    "    \n",
    "    model.add(tf.keras.layers.Embedding(input_dim=vocab_size, output_dim=100))\n",
    "    \n",
    "    for _ in range(num_layers):\n",
    "        model.add(tf.keras.layers.SimpleRNN(128, return_sequences=True))\n",
    "        model.add(tf.keras.layers.Dropout(dropout_rate))\n",
    "    \n",
    "    model.add(tf.keras.layers.SimpleRNN(128))\n",
    "    model.add(tf.keras.layers.Dense(6, activation='softmax'))\n",
    "\n",
    "    optimizer = tf.keras.optimizers.Adam()\n",
    "    model.compile(optimizer=optimizer, loss='sparse_categorical_crossentropy', metrics=['accuracy'])\n",
    "\n",
    "    print(f\"Training RNN with {num_layers} layers and dropout rate {dropout_rate}\")\n",
    "    model.fit(X_train, y_train, epochs=5, batch_size=64, validation_data=(X_test, y_test), verbose=0)\n",
    "\n",
    "    y_pred = model.predict(X_test)\n",
    "    y_pred_classes = np.argmax(y_pred, axis=1)\n",
    "\n",
    "    accuracy = accuracy_score(y_test, y_pred_classes)\n",
    "    precision = precision_score(y_test, y_pred_classes, average='weighted')\n",
    "    recall = recall_score(y_test, y_pred_classes, average='weighted')\n",
    "    f1 = f1_score(y_test, y_pred_classes, average='weighted')\n",
    "\n",
    "    results_rnn.append({\n",
    "        'num_layers': num_layers,\n",
    "        'dropout_rate': dropout_rate,\n",
    "        'accuracy': round(accuracy, 2),\n",
    "        'precision': round(precision, 2),\n",
    "        'recall': round(recall, 2),\n",
    "        'f1_score': round(f1, 2)\n",
    "    })\n",
    "\n",
    "results_rnn_df = pd.DataFrame(results_rnn)\n",
    "(results_rnn_df)\n"
   ]
  },
  {
   "cell_type": "markdown",
   "metadata": {},
   "source": [
    "### **GRU**"
   ]
  },
  {
   "cell_type": "code",
   "execution_count": 47,
   "metadata": {},
   "outputs": [
    {
     "name": "stdout",
     "output_type": "stream",
     "text": [
      "Training GRU with 2 layers and dropout rate 0.3\n",
      "\u001b[1m28/28\u001b[0m \u001b[32m━━━━━━━━━━━━━━━━━━━━\u001b[0m\u001b[37m\u001b[0m \u001b[1m2s\u001b[0m 45ms/step\n",
      "Training GRU with 2 layers and dropout rate 0.7\n",
      "\u001b[1m28/28\u001b[0m \u001b[32m━━━━━━━━━━━━━━━━━━━━\u001b[0m\u001b[37m\u001b[0m \u001b[1m2s\u001b[0m 46ms/step\n",
      "Training GRU with 3 layers and dropout rate 0.3\n",
      "\u001b[1m28/28\u001b[0m \u001b[32m━━━━━━━━━━━━━━━━━━━━\u001b[0m\u001b[37m\u001b[0m \u001b[1m2s\u001b[0m 58ms/step\n",
      "Training GRU with 3 layers and dropout rate 0.7\n",
      "\u001b[1m28/28\u001b[0m \u001b[32m━━━━━━━━━━━━━━━━━━━━\u001b[0m\u001b[37m\u001b[0m \u001b[1m2s\u001b[0m 65ms/step\n",
      "   num_layers  dropout_rate  accuracy  precision  recall  f1_score\n",
      "0           2           0.3      0.65       0.60    0.65      0.62\n",
      "1           2           0.7      0.60       0.59    0.60      0.60\n",
      "2           3           0.3      0.61       0.57    0.61      0.59\n",
      "3           3           0.7      0.62       0.58    0.62      0.60\n"
     ]
    }
   ],
   "source": [
    "results_gru = []\n",
    "\n",
    "for params in hyperparameters:\n",
    "    num_layers = params['num_layers']\n",
    "    dropout_rate = params['dropout_rate']\n",
    "\n",
    "    model = tf.keras.models.Sequential()\n",
    "    \n",
    "    model.add(tf.keras.layers.Embedding(input_dim=vocab_size, output_dim=100))\n",
    "    \n",
    "    for _ in range(num_layers):\n",
    "        model.add(tf.keras.layers.GRU(128, return_sequences=True))\n",
    "        model.add(tf.keras.layers.Dropout(dropout_rate))\n",
    "    \n",
    "    model.add(tf.keras.layers.GRU(128))\n",
    "    model.add(tf.keras.layers.Dense(6, activation='softmax'))\n",
    "\n",
    "    optimizer = tf.keras.optimizers.Adam()\n",
    "    model.compile(optimizer=optimizer, loss='sparse_categorical_crossentropy', metrics=['accuracy'])\n",
    "\n",
    "    print(f\"Training GRU with {num_layers} layers and dropout rate {dropout_rate}\")\n",
    "    model.fit(X_train, y_train, epochs=5, batch_size=64, validation_data=(X_test, y_test), verbose=0)\n",
    "\n",
    "    y_pred = model.predict(X_test)\n",
    "    y_pred_classes = np.argmax(y_pred, axis=1)\n",
    "\n",
    "    accuracy = accuracy_score(y_test, y_pred_classes)\n",
    "    precision = precision_score(y_test, y_pred_classes, average='weighted')\n",
    "    recall = recall_score(y_test, y_pred_classes, average='weighted')\n",
    "    f1 = f1_score(y_test, y_pred_classes, average='weighted')\n",
    "\n",
    "    results_gru.append({\n",
    "        'num_layers': num_layers,\n",
    "        'dropout_rate': dropout_rate,\n",
    "        'accuracy': round(accuracy, 2),\n",
    "        'precision': round(precision, 2),\n",
    "        'recall': round(recall, 2),\n",
    "        'f1_score': round(f1, 2)\n",
    "    })\n",
    "\n",
    "results_gru_df = pd.DataFrame(results_gru)\n",
    "print(results_gru_df)\n"
   ]
  },
  {
   "cell_type": "markdown",
   "metadata": {},
   "source": [
    "### **BiLSTM**"
   ]
  },
  {
   "cell_type": "code",
   "execution_count": 48,
   "metadata": {},
   "outputs": [
    {
     "name": "stdout",
     "output_type": "stream",
     "text": [
      "Training BiLSTM with 2 layers and dropout rate 0.3\n",
      "\u001b[1m28/28\u001b[0m \u001b[32m━━━━━━━━━━━━━━━━━━━━\u001b[0m\u001b[37m\u001b[0m \u001b[1m4s\u001b[0m 106ms/step\n",
      "Training BiLSTM with 2 layers and dropout rate 0.7\n",
      "\u001b[1m28/28\u001b[0m \u001b[32m━━━━━━━━━━━━━━━━━━━━\u001b[0m\u001b[37m\u001b[0m \u001b[1m3s\u001b[0m 81ms/step\n",
      "Training BiLSTM with 3 layers and dropout rate 0.3\n",
      "\u001b[1m28/28\u001b[0m \u001b[32m━━━━━━━━━━━━━━━━━━━━\u001b[0m\u001b[37m\u001b[0m \u001b[1m5s\u001b[0m 107ms/step\n",
      "Training BiLSTM with 3 layers and dropout rate 0.7\n",
      "\u001b[1m28/28\u001b[0m \u001b[32m━━━━━━━━━━━━━━━━━━━━\u001b[0m\u001b[37m\u001b[0m \u001b[1m4s\u001b[0m 101ms/step\n",
      "   num_layers  dropout_rate  accuracy  precision  recall  f1_score\n",
      "0           2           0.3      0.63       0.60    0.63      0.61\n",
      "1           2           0.7      0.62       0.58    0.62      0.60\n",
      "2           3           0.3      0.64       0.60    0.64      0.62\n",
      "3           3           0.7      0.66       0.61    0.66      0.63\n"
     ]
    }
   ],
   "source": [
    "results_bilstm = []\n",
    "\n",
    "for params in hyperparameters:\n",
    "    num_layers = params['num_layers']\n",
    "    dropout_rate = params['dropout_rate']\n",
    "\n",
    "    model = tf.keras.models.Sequential()\n",
    "    \n",
    "    model.add(tf.keras.layers.Embedding(input_dim=vocab_size, output_dim=100))\n",
    "    \n",
    "    for _ in range(num_layers):\n",
    "        model.add(tf.keras.layers.Bidirectional(tf.keras.layers.LSTM(128, return_sequences=True)))\n",
    "        model.add(tf.keras.layers.Dropout(dropout_rate))\n",
    "    \n",
    "    model.add(tf.keras.layers.Bidirectional(tf.keras.layers.LSTM(128)))\n",
    "    model.add(tf.keras.layers.Dense(6, activation='softmax'))\n",
    "\n",
    "    optimizer = tf.keras.optimizers.Adam()\n",
    "    model.compile(optimizer=optimizer, loss='sparse_categorical_crossentropy', metrics=['accuracy'])\n",
    "\n",
    "    print(f\"Training BiLSTM with {num_layers} layers and dropout rate {dropout_rate}\")\n",
    "    model.fit(X_train, y_train, epochs=5, batch_size=64, validation_data=(X_test, y_test), verbose=0)\n",
    "\n",
    "    y_pred = model.predict(X_test)\n",
    "    y_pred_classes = np.argmax(y_pred, axis=1)\n",
    "\n",
    "    accuracy = accuracy_score(y_test, y_pred_classes)\n",
    "    precision = precision_score(y_test, y_pred_classes, average='weighted')\n",
    "    recall = recall_score(y_test, y_pred_classes, average='weighted')\n",
    "    f1 = f1_score(y_test, y_pred_classes, average='weighted')\n",
    "\n",
    "    results_bilstm.append({\n",
    "        'num_layers': num_layers,\n",
    "        'dropout_rate': dropout_rate,\n",
    "        'accuracy': round(accuracy, 2),\n",
    "        'precision': round(precision, 2),\n",
    "        'recall': round(recall, 2),\n",
    "        'f1_score': round(f1, 2)\n",
    "    })\n",
    "\n",
    "results_bilstm_df = pd.DataFrame(results_bilstm)\n",
    "print(results_bilstm_df)\n"
   ]
  }
 ],
 "metadata": {
  "kernelspec": {
   "display_name": "Python 3",
   "language": "python",
   "name": "python3"
  },
  "language_info": {
   "codemirror_mode": {
    "name": "ipython",
    "version": 3
   },
   "file_extension": ".py",
   "mimetype": "text/x-python",
   "name": "python",
   "nbconvert_exporter": "python",
   "pygments_lexer": "ipython3",
   "version": "3.11.5"
  }
 },
 "nbformat": 4,
 "nbformat_minor": 2
}
